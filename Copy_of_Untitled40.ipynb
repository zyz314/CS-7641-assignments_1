{
  "nbformat": 4,
  "nbformat_minor": 0,
  "metadata": {
    "colab": {
      "provenance": [],
      "authorship_tag": "ABX9TyOZDStGEMV3eJcBGzPgAcLQ",
      "include_colab_link": true
    },
    "kernelspec": {
      "name": "python3",
      "display_name": "Python 3"
    },
    "language_info": {
      "name": "python"
    }
  },
  "cells": [
    {
      "cell_type": "markdown",
      "metadata": {
        "id": "view-in-github",
        "colab_type": "text"
      },
      "source": [
        "<a href=\"https://colab.research.google.com/github/zyz314/CS-7641-assignments_1/blob/master/Copy_of_Untitled40.ipynb\" target=\"_parent\"><img src=\"https://colab.research.google.com/assets/colab-badge.svg\" alt=\"Open In Colab\"/></a>"
      ]
    },
    {
      "cell_type": "markdown",
      "source": [
        "课程名称: CS7641 Machine Learning\n",
        "作业编号: Assignment 1\n",
        "学期: Spring 2025\n",
        "作者: [您的姓名]\n",
        "日期: [提交日期]\n"
      ],
      "metadata": {
        "id": "2wmvg8aKP0q3"
      }
    },
    {
      "cell_type": "markdown",
      "source": [
        "2. 引言（Introduction）\n",
        "2.1 研究背景\n",
        "监督学习（Supervised Learning）在分类问题中的广泛应用。\n",
        "选择 两个不同的数据集 来研究 不同监督学习算法的表现：\n",
        "Customer Personality Dataset（客户个性数据集） → 预测客户是否属于高消费群体。\n",
        "Spotify 2023 Dataset（Spotify 2023 数据集） → 预测歌曲是否会成为热门歌曲。"
      ],
      "metadata": {
        "id": "bfy335RRUIyv"
      }
    },
    {
      "cell_type": "code",
      "execution_count": null,
      "metadata": {
        "id": "nD9JnTE-Puhu"
      },
      "outputs": [],
      "source": []
    },
    {
      "cell_type": "markdown",
      "source": [
        "2.2 研究目标\n",
        "本实验的目标：\n",
        "\n",
        "探索两种数据集的特性：\n",
        "数据是否平衡？\n",
        "是否存在缺失值？\n",
        "哪些特征对目标变量有影响？\n",
        "\n",
        "比较四种分类算法的表现：\n",
        "Neural Networks（神经网络）\n",
        "Support Vector Machine（SVM，支持向量机）\n",
        "k-Nearest Neighbors（k-NN，k-最近邻）\n",
        "AdaBoost（Boosting for Decision Trees，决策树提升算法）\n",
        "\n",
        "分析不同超参数对模型性能的影响：\n",
        "训练误差 vs. 测试误差（学习曲线）。\n",
        "过拟合 vs. 欠拟合（模型复杂度曲线）。\n",
        "训练时间 & 预测时间对比。"
      ],
      "metadata": {
        "id": "GmMaipGJP5Q2"
      }
    },
    {
      "cell_type": "markdown",
      "source": [
        "2.3 实验方法\n",
        "先对数据集进行探索与预处理，确保数据可以用于机器学习模型。\n",
        "先完成 Customer Dataset 的所有算法实验，然后再完成 Spotify Dataset 的实验。\n",
        "最后对比两种数据集上不同算法的表现。"
      ],
      "metadata": {
        "id": "55nH6lTjUewH"
      }
    },
    {
      "cell_type": "code",
      "execution_count": null,
      "metadata": {
        "id": "04ZhYoFNP5Q3"
      },
      "outputs": [],
      "source": []
    },
    {
      "cell_type": "markdown",
      "source": [
        "3. 数据集 1：Customer Personality Dataset"
      ],
      "metadata": {
        "id": "opWdc9ciP5ZI"
      }
    },
    {
      "cell_type": "markdown",
      "source": [
        "3.1 数据加载\n",
        "从 Kaggle 加载数据，展示前 5 行样本。\n",
        "数据维度（行数、列数）。\n",
        "目标变量 income 分布（>50K vs <=50K，是否类别不均衡？）。\n",
        "📌 生成的图片：\n",
        "\n",
        "customer_dataset_head.png → 数据集前 5 行展示。\n",
        "customer_income_distribution.png → income 目标变量的类别分布饼图。"
      ],
      "metadata": {
        "id": "SDbe8m77UoVW"
      }
    },
    {
      "cell_type": "code",
      "execution_count": null,
      "metadata": {
        "colab": {
          "base_uri": "https://localhost:8080/"
        },
        "id": "XWwvURCfP5ZJ",
        "outputId": "24fe3b74-35cd-4915-d821-32ec922d4210"
      },
      "outputs": [
        {
          "output_type": "stream",
          "name": "stdout",
          "text": [
            "Dataset Shape: 2240 rows, 1 columns\n",
            "First 5 rows of the dataset:\n",
            "  ID\\tYear_Birth\\tEducation\\tMarital_Status\\tIncome\\tKidhome\\tTeenhome\\tDt_Customer\\tRecency\\tMntWines\\tMntFruits\\tMntMeatProducts\\tMntFishProducts\\tMntSweetProducts\\tMntGoldProds\\tNumDealsPurchases\\tNumWebPurchases\\tNumCatalogPurchases\\tNumStorePurchases\\tNumWebVisitsMonth\\tAcceptedCmp3\\tAcceptedCmp4\\tAcceptedCmp5\\tAcceptedCmp1\\tAcceptedCmp2\\tComplain\\tZ_CostContact\\tZ_Revenue\\tResponse\n",
            "0  5524\\t1957\\tGraduation\\tSingle\\t58138\\t0\\t0\\t0...                                                                                                                                                                                                                                                                                                                                                  \n",
            "1  2174\\t1954\\tGraduation\\tSingle\\t46344\\t1\\t1\\t0...                                                                                                                                                                                                                                                                                                                                                  \n",
            "2  4141\\t1965\\tGraduation\\tTogether\\t71613\\t0\\t0\\...                                                                                                                                                                                                                                                                                                                                                  \n",
            "3  6182\\t1984\\tGraduation\\tTogether\\t26646\\t1\\t0\\...                                                                                                                                                                                                                                                                                                                                                  \n",
            "4  5324\\t1981\\tPhD\\tMarried\\t58293\\t1\\t0\\t19-01-2...                                                                                                                                                                                                                                                                                                                                                  \n",
            "Warning: 'Income' column not found in dataset. Please verify the dataset structure.\n"
          ]
        }
      ],
      "source": [
        "# Import necessary libraries\n",
        "import pandas as pd\n",
        "import matplotlib.pyplot as plt\n",
        "\n",
        "# Step 1: Mount Google Drive (if loading dataset from Google Drive)\n",
        "# from google.colab import drive\n",
        "# drive.mount('/content/drive')\n",
        "\n",
        "# Step 2: Load the dataset (Assume file is uploaded to Colab)\n",
        "file_path = \"/content/marketing_campaign.csv\"  # Modify the path if needed\n",
        "customer_df = pd.read_csv(file_path, delimiter=\";\")  # Ensure the correct delimiter (semicolon in this case)\n",
        "\n",
        "# Step 3: Display dataset dimensions (rows & columns)\n",
        "num_rows, num_cols = customer_df.shape\n",
        "print(f\"Dataset Shape: {num_rows} rows, {num_cols} columns\")\n",
        "\n",
        "# Step 4: Display the first 5 rows of the dataset\n",
        "print(\"First 5 rows of the dataset:\")\n",
        "print(customer_df.head())\n",
        "\n",
        "# Step 5: Save the first 5 rows as a CSV file (optional, for report use)\n",
        "customer_df.head().to_csv(\"/content/customer_dataset_head.csv\", index=False)\n",
        "\n",
        "# Step 6: Check if the dataset contains the 'Income' column\n",
        "if \"Income\" in customer_df.columns:\n",
        "    # Step 6.1: Convert 'Income' to numeric (in case it contains non-numeric values)\n",
        "    customer_df['Income'] = pd.to_numeric(customer_df['Income'], errors='coerce')\n",
        "\n",
        "    # Step 6.2: Define income classification threshold (50K USD)\n",
        "    threshold = 50000\n",
        "\n",
        "    # Step 6.3: Create a new binary target variable 'Income_Label'\n",
        "    customer_df['Income_Label'] = customer_df['Income'].apply(lambda x: '>50K' if x > threshold else '<=50K')\n",
        "\n",
        "    # Step 6.4: Count occurrences of each income category\n",
        "    income_counts = customer_df['Income_Label'].value_counts()\n",
        "\n",
        "    # Step 6.5: Plot the income distribution as a pie chart\n",
        "    plt.figure(figsize=(6, 6))  # Set figure size\n",
        "    plt.pie(income_counts, labels=income_counts.index, autopct='%1.1f%%',\n",
        "            colors=[\"lightblue\", \"orange\"], startangle=140)\n",
        "    plt.title(\"Income Distribution in Customer Dataset\")  # Add title\n",
        "\n",
        "    # Step 6.6: Save the pie chart as an image file\n",
        "    plt.savefig(\"/content/customer_income_distribution.png\")\n",
        "\n",
        "    # Step 6.7: Display the pie chart\n",
        "    plt.show()\n",
        "\n",
        "else:\n",
        "    print(\"Warning: 'Income' column not found in dataset. Please verify the dataset structure.\")\n"
      ]
    },
    {
      "cell_type": "markdown",
      "source": [
        "3.2 数据探索\n",
        "3.2.1 数值特征的分布\n",
        "age, education-num, capital-gain, capital-loss, hours-per-week。\n",
        "直方图展示数值变量分布。\n",
        "\n",
        "📌 生成的图片： 3. customer_numeric_histograms.png → 所有数值特征的分布直方图。\n",
        "\n",
        "生成的图片： 5. customer_missing_values_before.png → 缺失值统计（填充前）。 6. customer_missing_values_after.png → 缺失值统计（填充后）。"
      ],
      "metadata": {
        "id": "EmU_btQkP5fh"
      }
    },
    {
      "cell_type": "code",
      "execution_count": null,
      "metadata": {
        "id": "-Zdw5wRyP5fh"
      },
      "outputs": [],
      "source": []
    },
    {
      "cell_type": "markdown",
      "source": [
        "3.3 数据预处理\n",
        "3.3.1 缺失值处理\n",
        "数值特征 → 用均值填充。\n",
        "类别特征 → 用众数填充或 \"Unknown\" **填充。**"
      ],
      "metadata": {
        "id": "LT_DPFn-P5kv"
      }
    },
    {
      "cell_type": "code",
      "execution_count": null,
      "metadata": {
        "id": "nOGrfR40P5kw"
      },
      "outputs": [],
      "source": []
    },
    {
      "cell_type": "markdown",
      "source": [
        "3.2.2 类别特征的统计\n",
        "workclass, education, marital-status, occupation, relationship, race, sex。\n",
        "使用 条形图 观察类别变量分布。"
      ],
      "metadata": {
        "id": "g1NoOJHvP5q8"
      }
    },
    {
      "cell_type": "code",
      "execution_count": null,
      "metadata": {
        "id": "9qfSMtHHP5q9"
      },
      "outputs": [],
      "source": []
    },
    {
      "cell_type": "markdown",
      "source": [
        "3.3.3 类别特征编码\n",
        "One-Hot 编码类别变量（workclass, education, marital-status 等）。\n",
        "📌 生成的图片： 9. customer_ohe_features.png → One-Hot 编码后的特征数量统计。"
      ],
      "metadata": {
        "id": "qaLyiovvU3Lm"
      }
    },
    {
      "cell_type": "code",
      "source": [],
      "metadata": {
        "id": "YpE_6eaqU3be"
      },
      "execution_count": null,
      "outputs": []
    },
    {
      "cell_type": "markdown",
      "source": [
        "3.4 训练集 & 测试集划分\n",
        "80% 训练集，20% 测试集（使用 Stratified Sampling 保持类别比例）。\n",
        "显示划分后的数据统计信息。\n",
        "📌 生成的图片： 10. customer_train_test_split.png → 训练集 vs 测试集的目标变量分布。"
      ],
      "metadata": {
        "id": "7DTo3oeaU3re"
      }
    },
    {
      "cell_type": "code",
      "source": [],
      "metadata": {
        "id": "b6sLLsWNU3zO"
      },
      "execution_count": null,
      "outputs": []
    },
    {
      "cell_type": "markdown",
      "source": [],
      "metadata": {
        "id": "_1iOhAztU41c"
      }
    },
    {
      "cell_type": "code",
      "source": [],
      "metadata": {
        "id": "bWfJNJwyU41d"
      },
      "execution_count": null,
      "outputs": []
    },
    {
      "cell_type": "markdown",
      "source": [
        "3.5 Customer Dataset 的分类实验\n",
        "Neural Networks（神经网络）\n",
        "SVM（支持向量机）\n",
        "k-NN（k-最近邻）\n",
        "AdaBoost（Boosting for Decision Trees）\n",
        "📌 生成的图片： 10. customer_dataset_roc_curve.png → Customer Dataset 上四种算法的 ROC 曲线（包含 AUC 值）。"
      ],
      "metadata": {
        "id": "icscFFhwU45b"
      }
    },
    {
      "cell_type": "code",
      "source": [],
      "metadata": {
        "id": "XqHgnbabU45b"
      },
      "execution_count": null,
      "outputs": []
    },
    {
      "cell_type": "markdown",
      "source": [
        "4. 数据集 2：Spotify 2023 Dataset\n",
        "📌 与 Customer Dataset 相同的分析流程。\n",
        "\n",
        "📌 生成的图片： 11. spotify_dataset_roc_curve.png → Spotify Dataset 上四种算法的 ROC 曲线（包含 AUC 值）。\n",
        "\n",
        "\n"
      ],
      "metadata": {
        "id": "WjnV_amCU484"
      }
    },
    {
      "cell_type": "code",
      "source": [],
      "metadata": {
        "id": "VGtbK4S6U484"
      },
      "execution_count": null,
      "outputs": []
    },
    {
      "cell_type": "markdown",
      "source": [
        "4.1 数据加载\n",
        "从 Kaggle 加载数据，展示前 5 行样本。\n",
        "数据维度（行数、列数）。\n",
        "目标变量 profit_label 分布（0 代表非热门歌曲，1 代表热门歌曲）。\n",
        "📌 生成的图片：\n",
        "\n",
        "spotify_dataset_head.png → 数据集前 5 行展示。\n",
        "spotify_profit_label_distribution.png → profit_label 目标变量的类别分布饼图。"
      ],
      "metadata": {
        "id": "1tD3qy-3U4__"
      }
    },
    {
      "cell_type": "code",
      "source": [],
      "metadata": {
        "id": "qRVCIxTSU4__"
      },
      "execution_count": null,
      "outputs": []
    },
    {
      "cell_type": "markdown",
      "source": [
        "4.2 数据探索\n",
        "4.2.1 数值特征的分布\n",
        "主要数值特征：\n",
        "\n",
        "popularity（歌曲流行度）\n",
        "budget（制作成本）\n",
        "runtime（时长）\n",
        "vote_count（投票数量）\n",
        "vote_average（平均评分）\n",
        "release_week（发行周）\n",
        "release_month（发行月份）\n",
        "title_len（歌曲标题长度）\n",
        "直方图展示数值变量的分布情况。\n",
        "\n",
        "📌 生成的图片： 3. spotify_numeric_histograms.png → 所有数值特征的分布直方图。"
      ],
      "metadata": {
        "id": "zlm43snlU5DT"
      }
    },
    {
      "cell_type": "code",
      "source": [],
      "metadata": {
        "id": "8g93HrplU5DU"
      },
      "execution_count": null,
      "outputs": []
    },
    {
      "cell_type": "markdown",
      "source": [
        "4.2.2 类别特征的统计\n",
        "主要类别特征：\n",
        "\n",
        "genres（音乐类型）\n",
        "release_day（发行日期）\n",
        "has_homepage（是否有主页）\n",
        "cast_size（音乐制作团队大小）\n",
        "使用条形图观察类别变量的分布。\n",
        "\n",
        "📌 生成的图片： 4. spotify_categorical_barplots.png → 类别变量分布条形图。\n"
      ],
      "metadata": {
        "id": "_r4MAhizU5Gp"
      }
    },
    {
      "cell_type": "code",
      "source": [],
      "metadata": {
        "id": "Pg9Es8C0U5Gq"
      },
      "execution_count": null,
      "outputs": []
    },
    {
      "cell_type": "markdown",
      "source": [
        "4.3 数据预处理\n",
        "4.3.1 缺失值处理\n",
        "数值特征 → 用均值填充。\n",
        "类别特征 → 用众数填充或 \"Unknown\" 填充。\n",
        "📌 生成的图片： 5. spotify_missing_values_before.png → 缺失值统计（填充前）。 6. spotify_missing_values_after.png → 缺失值统计（填充后）。\n",
        "\n",
        "\n"
      ],
      "metadata": {
        "id": "1YA_LtKyU5KA"
      }
    },
    {
      "cell_type": "code",
      "source": [],
      "metadata": {
        "id": "irL9gweRU5KA"
      },
      "execution_count": null,
      "outputs": []
    },
    {
      "cell_type": "markdown",
      "source": [
        "4.3.2 特征变换\n",
        "对 budget 和 revenue 进行对数变换 以减少偏态影响。\n",
        "归一化数值变量（Min-Max 归一化）。\n",
        "📌 生成的图片： 7. spotify_budget_log_transform.png → budget 对数变换前后对比。 8. spotify_revenue_log_transform.png → revenue 对数变换前后对比。\n",
        "\n"
      ],
      "metadata": {
        "id": "HrYrC9jdU5NE"
      }
    },
    {
      "cell_type": "code",
      "source": [],
      "metadata": {
        "id": "cfnMEjlwU5NE"
      },
      "execution_count": null,
      "outputs": []
    },
    {
      "cell_type": "markdown",
      "source": [
        "4.3.3 类别特征编码\n",
        "One-Hot 编码类别变量（genres, release_day 等）。\n",
        "📌 生成的图片： 9. spotify_ohe_features.png → One-Hot 编码后的特征数量统计。"
      ],
      "metadata": {
        "id": "Ae3M51xhU5QJ"
      }
    },
    {
      "cell_type": "code",
      "source": [],
      "metadata": {
        "id": "P6-GhGzHU5QJ"
      },
      "execution_count": null,
      "outputs": []
    },
    {
      "cell_type": "markdown",
      "source": [
        "4.4 训练集 & 测试集划分\n",
        "80% 训练集，20% 测试集（使用 Stratified Sampling 保持类别比例）。\n",
        "显示划分后的数据统计信息。\n",
        "📌 生成的图片： 10. spotify_train_test_split.png → 训练集 vs 测试集的目标变量分布。"
      ],
      "metadata": {
        "id": "-Pw7xxVKU5TD"
      }
    },
    {
      "cell_type": "code",
      "source": [],
      "metadata": {
        "id": "ZHFVO9tMU5TE"
      },
      "execution_count": null,
      "outputs": []
    },
    {
      "cell_type": "markdown",
      "source": [
        "4.5 Spotify Dataset 的分类实验\n",
        "（使用相同的四种分类算法进行实验）\n",
        "\n",
        "4.5.1 Neural Networks（神经网络）\n",
        "测试两种激活函数（ReLU 和 Sigmoid）。\n",
        "调整隐藏层大小（100, [100,50], [100,50,25]）。\n",
        "评估：准确率、ROC 曲线、训练时间。"
      ],
      "metadata": {
        "id": "IhQ3zPqVU5WT"
      }
    },
    {
      "cell_type": "code",
      "source": [],
      "metadata": {
        "id": "lG5zkOj5U5WU"
      },
      "execution_count": null,
      "outputs": []
    },
    {
      "cell_type": "markdown",
      "source": [
        "4.5.2 SVM（支持向量机）\n",
        "测试不同核函数（linear vs rbf）。\n",
        "调整 C 值（1.0, 10.0, 100.0）。\n",
        "评估：准确率、ROC 曲线、训练时间。"
      ],
      "metadata": {
        "id": "Qg4r1MP9U5Zh"
      }
    },
    {
      "cell_type": "code",
      "source": [],
      "metadata": {
        "id": "Rlk9vUcdU5Zi"
      },
      "execution_count": null,
      "outputs": []
    },
    {
      "cell_type": "markdown",
      "source": [
        "4.5.3 k-NN（k-最近邻）\n",
        "测试不同 k 值（3, 5, 10, 20, 50）。\n",
        "尝试不同的距离度量（欧几里得 vs 曼哈顿）。\n",
        "评估：准确率、ROC 曲线、训练时间。"
      ],
      "metadata": {
        "id": "gnooOaToU5c4"
      }
    },
    {
      "cell_type": "code",
      "source": [],
      "metadata": {
        "id": "CNIOVexQU5c4"
      },
      "execution_count": null,
      "outputs": []
    },
    {
      "cell_type": "markdown",
      "source": [
        "4.5.4 AdaBoost（Boosting for Decision Trees）\n",
        "调整 n_estimators（50, 100, 200）和 learning_rate（0.1, 0.5, 1.0）。\n",
        "评估：准确率、ROC 曲线、训练时间。\n",
        "📌 生成的图片： 11. spotify_dataset_roc_curve.png → Spotify Dataset 上四种算法的 ROC 曲线（包含 AUC 值）。"
      ],
      "metadata": {
        "id": "h1jkQT0JU5gc"
      }
    },
    {
      "cell_type": "code",
      "source": [],
      "metadata": {
        "id": "2bubl0iTU5gc"
      },
      "execution_count": null,
      "outputs": []
    },
    {
      "cell_type": "markdown",
      "source": [
        "4.6 Spotify Dataset 结果分析\n",
        "4.6.1 不同算法的准确率对比\n",
        "评估不同算法的分类准确率，选择最佳模型。\n",
        "📌 生成的图片： 12. spotify_accuracy_comparison.png → 不同算法在 Spotify 数据集上的准确率对比。"
      ],
      "metadata": {
        "id": "gUR0WjwvXZOn"
      }
    },
    {
      "cell_type": "code",
      "source": [],
      "metadata": {
        "id": "h7j_d1rDXZOo"
      },
      "execution_count": null,
      "outputs": []
    },
    {
      "cell_type": "markdown",
      "source": [
        "4.6.2 训练时间 & 预测时间对比\n",
        "分析计算时间，选择效率最高的算法。\n",
        "📌 生成的图片： 13. spotify_training_time_comparison.png → 训练时间对比。 14. spotify_prediction_time_comparison.png → 预测时间对比。\n",
        "\n"
      ],
      "metadata": {
        "id": "LUr90gR5XZS0"
      }
    },
    {
      "cell_type": "code",
      "source": [],
      "metadata": {
        "id": "64FTLaHfXZS1"
      },
      "execution_count": null,
      "outputs": []
    },
    {
      "cell_type": "markdown",
      "source": [
        "4.6.3 模型复杂度曲线\n",
        "不同超参数（C, k, n_estimators）如何影响误差？\n",
        "📌 生成的图片： 15. spotify_model_complexity_svm.png → SVM 在不同 C 值下的模型复杂度曲线。 16. spotify_model_complexity_knn.png → k-NN 在不同 k 值下的模型复杂度曲线。 17. spotify_model_complexity_adaboost.png → AdaBoost 在不同 n_estimators 下的模型复杂度曲线。"
      ],
      "metadata": {
        "id": "FEq98JVQXZV0"
      }
    },
    {
      "cell_type": "code",
      "source": [],
      "metadata": {
        "id": "D2Abn2okXZV1"
      },
      "execution_count": null,
      "outputs": []
    },
    {
      "cell_type": "markdown",
      "source": [
        "5. 结果对比\n",
        "📌 与 Customer Dataset 进行全面对比：\n",
        "\n",
        "哪个数据集对不同算法更友好？\n",
        "类别不均衡 vs. 平衡数据集，对模型影响如何？\n",
        "特征的不同如何影响分类任务？\n",
        "📌 生成的图片： 18. dataset_comparison.png → 数据集特征对比可视化。 19. comparison_accuracy.png → 所有算法的准确率比较。 20. comparison_training_time.png → 训练时间比较。 21. comparison_testing_time.png → 预测时间比较。"
      ],
      "metadata": {
        "id": "wIy9MOF5XZYt"
      }
    },
    {
      "cell_type": "code",
      "source": [],
      "metadata": {
        "id": "gexqQ7kuXZYu"
      },
      "execution_count": null,
      "outputs": []
    },
    {
      "cell_type": "markdown",
      "source": [
        "6. 结论与未来工作\n",
        "📌 总结最佳算法，并讨论未来优化方向。\n",
        "\n",
        "📌 生成的图片： 22. summary_best_model.png → 最佳模型总结图。"
      ],
      "metadata": {
        "id": "qeBIUEziXZbo"
      }
    },
    {
      "cell_type": "code",
      "source": [],
      "metadata": {
        "id": "3_qM39ZEXZbp"
      },
      "execution_count": null,
      "outputs": []
    },
    {
      "cell_type": "markdown",
      "source": [],
      "metadata": {
        "id": "REzICs4CXZex"
      }
    },
    {
      "cell_type": "code",
      "source": [],
      "metadata": {
        "id": "5kbOe2QIXZey"
      },
      "execution_count": null,
      "outputs": []
    },
    {
      "cell_type": "markdown",
      "source": [],
      "metadata": {
        "id": "mi5Mz9VDXZhp"
      }
    },
    {
      "cell_type": "code",
      "source": [],
      "metadata": {
        "id": "DibsAltmXZhq"
      },
      "execution_count": null,
      "outputs": []
    },
    {
      "cell_type": "markdown",
      "source": [],
      "metadata": {
        "id": "Y6T5QjnNXZku"
      }
    },
    {
      "cell_type": "code",
      "source": [],
      "metadata": {
        "id": "F9naRaviXZku"
      },
      "execution_count": null,
      "outputs": []
    }
  ]
}